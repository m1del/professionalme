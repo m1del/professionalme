{
 "cells": [
  {
   "cell_type": "markdown",
   "metadata": {},
   "source": [
    "# Human Face Exploratory Data Analysis\n",
    "A web scraped dataset of human faces suggested for image processing models\n",
    "See more at: https://www.kaggle.com/datasets/ashwingupta3012/human-faces/data"
   ]
  },
  {
   "cell_type": "code",
   "execution_count": 1,
   "metadata": {},
   "outputs": [],
   "source": [
    "import os\n",
    "import cv2\n",
    "import matplotlib.pyplot as plt"
   ]
  },
  {
   "cell_type": "markdown",
   "metadata": {},
   "source": [
    "## Data Loading"
   ]
  },
  {
   "cell_type": "code",
   "execution_count": 2,
   "metadata": {},
   "outputs": [
    {
     "ename": "FileNotFoundError",
     "evalue": "[WinError 3] The system cannot find the path specified: '../data/raw/Humans/'",
     "output_type": "error",
     "traceback": [
      "\u001b[1;31m---------------------------------------------------------------------------\u001b[0m",
      "\u001b[1;31mFileNotFoundError\u001b[0m                         Traceback (most recent call last)",
      "Cell \u001b[1;32mIn[2], line 4\u001b[0m\n\u001b[0;32m      1\u001b[0m dataset_path \u001b[38;5;241m=\u001b[39m \u001b[38;5;124m'\u001b[39m\u001b[38;5;124m../data/raw/Humans/\u001b[39m\u001b[38;5;124m'\u001b[39m\n\u001b[0;32m      3\u001b[0m \u001b[38;5;66;03m# List all files in the dataset directory\u001b[39;00m\n\u001b[1;32m----> 4\u001b[0m all_files \u001b[38;5;241m=\u001b[39m \u001b[43mos\u001b[49m\u001b[38;5;241;43m.\u001b[39;49m\u001b[43mlistdir\u001b[49m\u001b[43m(\u001b[49m\u001b[43mdataset_path\u001b[49m\u001b[43m)\u001b[49m\n\u001b[0;32m      5\u001b[0m image_files \u001b[38;5;241m=\u001b[39m [f \u001b[38;5;28;01mfor\u001b[39;00m f \u001b[38;5;129;01min\u001b[39;00m all_files \u001b[38;5;28;01mif\u001b[39;00m f\u001b[38;5;241m.\u001b[39mendswith((\u001b[38;5;124m'\u001b[39m\u001b[38;5;124m.jpg\u001b[39m\u001b[38;5;124m'\u001b[39m, \u001b[38;5;124m'\u001b[39m\u001b[38;5;124m.png\u001b[39m\u001b[38;5;124m'\u001b[39m))]\n\u001b[0;32m      7\u001b[0m \u001b[38;5;66;03m# Load and display 5 sample images\u001b[39;00m\n",
      "\u001b[1;31mFileNotFoundError\u001b[0m: [WinError 3] The system cannot find the path specified: '../data/raw/Humans/'"
     ]
    }
   ],
   "source": [
    "dataset_path = '../data/raw/Humans/'\n",
    "\n",
    "# List all files in the dataset directory\n",
    "all_files = os.listdir(dataset_path)\n",
    "image_files = [f for f in all_files if f.endswith(('.jpg', '.png'))]\n",
    "\n",
    "# Load and display 5 sample images\n",
    "sample_images = []\n",
    "for image_file in image_files[:5]:\n",
    "    image_path = os.path.join(dataset_path, image_file)\n",
    "    image = cv2.imread(image_path)\n",
    "    sample_images.append(image)\n",
    "\n",
    "for img in sample_images:\n",
    "    plt.imshow(cv2.cvtColor(img, cv2.COLOR_BGR2RGB))\n",
    "    plt.show()"
   ]
  },
  {
   "cell_type": "markdown",
   "metadata": {},
   "source": [
    "## Data Visualization"
   ]
  },
  {
   "cell_type": "code",
   "execution_count": null,
   "metadata": {},
   "outputs": [],
   "source": [
    "# My path to the haarcascades directory\n",
    "haarcascades_path = '/home/john/miniconda3/envs/profme2/share/opencv4/haarcascades/'\n",
    "\n",
    "face_cascade = cv2.CascadeClassifier(haarcascades_path + 'haarcascade_frontalface_default.xml')\n",
    "\n",
    "for img in sample_images:\n",
    "    gray = cv2.cvtColor(img, cv2.COLOR_BGR2GRAY)\n",
    "    faces = face_cascade.detectMultiScale(gray, 1.1, 4)\n",
    "    for (x, y, w, h) in faces:\n",
    "        cv2.rectangle(img, (x, y), (x+w, y+h), (255, 0, 0), 2)\n",
    "    plt.imshow(cv2.cvtColor(img, cv2.COLOR_BGR2RGB))\n",
    "    plt.show()\n"
   ]
  },
  {
   "cell_type": "markdown",
   "metadata": {},
   "source": [
    "## Face Size and Position Analysis"
   ]
  },
  {
   "cell_type": "code",
   "execution_count": 1,
   "metadata": {},
   "outputs": [
    {
     "ename": "NameError",
     "evalue": "name 'sample_images' is not defined",
     "output_type": "error",
     "traceback": [
      "\u001b[1;31m----------------------------------------------------------------\u001b[0m",
      "\u001b[1;31mNameError\u001b[0m                      Traceback (most recent call last)",
      "Cell \u001b[1;32mIn[1], line 3\u001b[0m\n\u001b[0;32m      1\u001b[0m face_sizes \u001b[38;5;241m=\u001b[39m []\n\u001b[1;32m----> 3\u001b[0m \u001b[38;5;28;01mfor\u001b[39;00m img \u001b[38;5;129;01min\u001b[39;00m \u001b[43msample_images\u001b[49m:\n\u001b[0;32m      4\u001b[0m     gray \u001b[38;5;241m=\u001b[39m cv2\u001b[38;5;241m.\u001b[39mcvtColor(img, cv2\u001b[38;5;241m.\u001b[39mCOLOR_BGR2GRAY)\n\u001b[0;32m      5\u001b[0m     faces \u001b[38;5;241m=\u001b[39m face_cascade\u001b[38;5;241m.\u001b[39mdetectMultiScale(gray, \u001b[38;5;241m1.1\u001b[39m, \u001b[38;5;241m4\u001b[39m)\n",
      "\u001b[1;31mNameError\u001b[0m: name 'sample_images' is not defined"
     ]
    }
   ],
   "source": [
    "face_sizes = []\n",
    "\n",
    "for img in sample_images:\n",
    "    gray = cv2.cvtColor(img, cv2.COLOR_BGR2GRAY)\n",
    "    faces = face_cascade.detectMultiScale(gray, 1.1, 4)\n",
    "    for (x, y, w, h) in faces:\n",
    "        face_sizes.append((w, h))\n",
    "\n",
    "# Plotting the distribution of face widths and heights\n",
    "face_widths = [w for w, h in face_sizes]\n",
    "face_heights = [h for w, h in face_sizes]\n",
    "\n",
    "plt.hist(face_widths, bins=20, color='blue', alpha=0.7, label='Width')\n",
    "plt.hist(face_heights, bins=20, color='red', alpha=0.7, label='Height')\n",
    "plt.xlabel('Pixels')\n",
    "plt.ylabel('Number of Faces')\n",
    "plt.legend()\n",
    "plt.show()"
   ]
  },
  {
   "cell_type": "markdown",
   "metadata": {},
   "source": [
    "## Data Quality and Diversity"
   ]
  },
  {
   "cell_type": "markdown",
   "metadata": {},
   "source": [
    "Checking for Duplicates"
   ]
  },
  {
   "cell_type": "code",
   "execution_count": null,
   "metadata": {},
   "outputs": [],
   "source": [
    "import hashlib\n",
    "\n",
    "def dhash(image, hash_size=8):\n",
    "    resized = cv2.resize(image, (hash_size + 1, hash_size))\n",
    "    diff = resized[:, 1:] > resized[:, :-1]\n",
    "    return sum([2 ** i for (i, v) in enumerate(diff.flatten()) if v])\n",
    "\n",
    "hashes = {}\n",
    "duplicates = []\n",
    "\n",
    "for image_file in image_files:\n",
    "    image_path = os.path.join(dataset_path, image_file)\n",
    "    image = cv2.imread(image_path, 0)  # Load in grayscale\n",
    "    h = dhash(image)\n",
    "    if h in hashes:\n",
    "        duplicates.append((image_path, hashes[h]))\n",
    "    else:\n",
    "        hashes[h] = image_path\n",
    "\n",
    "print(f\"Found {len(duplicates)} duplicate images.\")\n"
   ]
  },
  {
   "cell_type": "code",
   "execution_count": null,
   "metadata": {},
   "outputs": [],
   "source": [
    "# Veryify that the images are indeed duplicates by displaying them\n",
    "for dup in duplicates[:5]:\n",
    "    img1 = cv2.imread(dup[0])\n",
    "    img2 = cv2.imread(dup[1])\n",
    "    plt.imshow(cv2.cvtColor(img1, cv2.COLOR_BGR2RGB))\n",
    "    plt.show()\n",
    "    plt.imshow(cv2.cvtColor(img2, cv2.COLOR_BGR2RGB))\n",
    "    plt.show()\n"
   ]
  },
  {
   "cell_type": "code",
   "execution_count": null,
   "metadata": {},
   "outputs": [],
   "source": [
    "# Remove the duplicate images\n",
    "for dup in duplicates:\n",
    "    os.remove(dup[0])"
   ]
  },
  {
   "cell_type": "code",
   "execution_count": null,
   "metadata": {},
   "outputs": [],
   "source": [
    "# Viewing how many images are left\n",
    "all_files = os.listdir(dataset_path)\n",
    "print(len(all_files))"
   ]
  },
  {
   "cell_type": "code",
   "execution_count": null,
   "metadata": {},
   "outputs": [],
   "source": [
    "# Update image files list\n",
    "image_files = [f for f in all_files if f.endswith(('.jpg', '.png'))]"
   ]
  },
  {
   "cell_type": "markdown",
   "metadata": {},
   "source": [
    "Checking for Low-Quality Images"
   ]
  },
  {
   "cell_type": "code",
   "execution_count": null,
   "metadata": {},
   "outputs": [],
   "source": [
    "def variance_of_laplacian(image):\n",
    "    return cv2.Laplacian(image, cv2.CV_64F).var()\n",
    "\n",
    "blurry_images = []\n",
    "\n",
    "for image_file in image_files:\n",
    "    image_path = os.path.join(dataset_path, image_file)\n",
    "    image = cv2.imread(image_path, 0)  # Load in grayscale\n",
    "    if variance_of_laplacian(image) < 100:  # Threshold can be adjusted\n",
    "        blurry_images.append(image_path)\n",
    "\n",
    "print(f\"Found {len(blurry_images)} blurry images.\")"
   ]
  },
  {
   "cell_type": "code",
   "execution_count": null,
   "metadata": {},
   "outputs": [],
   "source": [
    "# Viewing the blurry images\n",
    "for image_path in blurry_images[:5]:\n",
    "    image = cv2.imread(image_path)\n",
    "    plt.imshow(cv2.cvtColor(image, cv2.COLOR_BGR2RGB))\n",
    "    plt.show()"
   ]
  },
  {
   "cell_type": "markdown",
   "metadata": {},
   "source": [
    "They're not too blurry, I think it's fine to leave them in."
   ]
  }
 ],
 "metadata": {
  "kernelspec": {
   "display_name": "Python 3 (ipykernel)",
   "language": "python",
   "name": "python3"
  },
  "language_info": {
   "codemirror_mode": {
    "name": "ipython",
    "version": 3
   },
   "file_extension": ".py",
   "mimetype": "text/x-python",
   "name": "python",
   "nbconvert_exporter": "python",
   "pygments_lexer": "ipython3",
   "version": "3.10.12"
  }
 },
 "nbformat": 4,
 "nbformat_minor": 2
}
